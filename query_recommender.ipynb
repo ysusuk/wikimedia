{
 "cells": [
  {
   "cell_type": "code",
   "execution_count": 18,
   "metadata": {},
   "outputs": [],
   "source": [
    "from pyspark.sql import HiveContext\n",
    "import pyspark.sql \n",
    "import pyspark.sql.functions as func\n",
    "import pyspark.sql.types as types\n",
    "import re\n",
    "import pandas as pd"
   ]
  },
  {
   "cell_type": "code",
   "execution_count": 28,
   "metadata": {},
   "outputs": [],
   "source": [
    "df = spark.read.format(\"csv\").option(\"header\", \"true\").load(\"s3://queries.csv\")"
   ]
  },
  {
   "cell_type": "code",
   "execution_count": 29,
   "metadata": {},
   "outputs": [],
   "source": [
    "df = df.cache()"
   ]
  },
  {
   "cell_type": "code",
   "execution_count": 30,
   "metadata": {},
   "outputs": [
    {
     "data": {
      "text/plain": [
       "4638"
      ]
     },
     "execution_count": 30,
     "metadata": {},
     "output_type": "execute_result"
    }
   ],
   "source": [
    "df.count()"
   ]
  },
  {
   "cell_type": "markdown",
   "metadata": {},
   "source": [
    "### Let's figure out number of collaborative interactions"
   ]
  },
  {
   "cell_type": "code",
   "execution_count": 594,
   "metadata": {},
   "outputs": [
    {
     "name": "stdout",
     "output_type": "stream",
     "text": [
      "+-------+------------------+\n",
      "|summary|             count|\n",
      "+-------+------------------+\n",
      "|  count|              4422|\n",
      "|   mean|1.0488466757123474|\n",
      "| stddev|0.8972865070785064|\n",
      "|    min|                 1|\n",
      "|    max|                37|\n",
      "+-------+------------------+\n",
      "\n"
     ]
    }
   ],
   "source": [
    "df.groupby('user_id').count().select('count').describe().show()"
   ]
  },
  {
   "cell_type": "markdown",
   "metadata": {},
   "source": [
    "on average most of our users posted only one search query, on the other hand there are \"outliers\" with max=37."
   ]
  },
  {
   "cell_type": "code",
   "execution_count": 671,
   "metadata": {},
   "outputs": [],
   "source": [
    "colb_ids = df.groupby('user_id').count().where(func.col('count') > 1)"
   ]
  },
  {
   "cell_type": "code",
   "execution_count": 672,
   "metadata": {},
   "outputs": [
    {
     "data": {
      "text/plain": [
       "83"
      ]
     },
     "execution_count": 672,
     "metadata": {},
     "output_type": "execute_result"
    }
   ],
   "source": [
    "colb_ids.count()"
   ]
  },
  {
   "cell_type": "code",
   "execution_count": 612,
   "metadata": {},
   "outputs": [],
   "source": [
    "outliers = df.groupby('user_id').count().where(func.col('count') > 3).orderBy('count')"
   ]
  },
  {
   "cell_type": "code",
   "execution_count": 620,
   "metadata": {},
   "outputs": [
    {
     "name": "stdout",
     "output_type": "stream",
     "text": [
      "+----------------------------------------+-----+\n",
      "|user_id                                 |count|\n",
      "+----------------------------------------+-----+\n",
      "|f368479f91e7488a388de792cccade153f61760d|4    |\n",
      "|b9071fe201c0b81ee8993a0a2c2c217776017aa5|4    |\n",
      "|889311ad9b4be5d00ef1a5ac93a6580f1a85d11e|4    |\n",
      "|aad89e151e8c0b4f6cbc5775c2574ded6941dbc1|7    |\n",
      "|8dd0b980793105e4b1d003de5b4b7c3ae2b56672|7    |\n",
      "|dc6a1e7e8f267d99f2ad3f0cb3423faf87dd5c74|26   |\n",
      "|ac00424bc343c923a34dc5d8edc44e534127d963|28   |\n",
      "|88ec4549b00311ba4e46f3a1bdde085e86a1cfe1|28   |\n",
      "|dab67f7f4aba7247c8d32c09086565eac33103eb|37   |\n",
      "+----------------------------------------+-----+\n",
      "\n"
     ]
    }
   ],
   "source": [
    "outliers.show(25, False)"
   ]
  },
  {
   "cell_type": "code",
   "execution_count": 622,
   "metadata": {},
   "outputs": [],
   "source": [
    "outliers_details = df.join(outliers.select(['user_id', 'count']), on=['user_id'], how='inner').orderBy('user_id')"
   ]
  },
  {
   "cell_type": "code",
   "execution_count": 629,
   "metadata": {},
   "outputs": [
    {
     "name": "stdout",
     "output_type": "stream",
     "text": [
      "+----------------------------------------+---------------------------+-----+\n",
      "|user_id                                 |searched_term              |count|\n",
      "+----------------------------------------+---------------------------+-----+\n",
      "|dab67f7f4aba7247c8d32c09086565eac33103eb|murmansk                   |37   |\n",
      "|dab67f7f4aba7247c8d32c09086565eac33103eb|palau                      |37   |\n",
      "|dab67f7f4aba7247c8d32c09086565eac33103eb|caruaru                    |37   |\n",
      "|dab67f7f4aba7247c8d32c09086565eac33103eb|lorch                      |37   |\n",
      "|dab67f7f4aba7247c8d32c09086565eac33103eb|st albans                  |37   |\n",
      "|dab67f7f4aba7247c8d32c09086565eac33103eb|waikato                    |37   |\n",
      "|dab67f7f4aba7247c8d32c09086565eac33103eb|paldiski                   |37   |\n",
      "|dab67f7f4aba7247c8d32c09086565eac33103eb|eger                       |37   |\n",
      "|dab67f7f4aba7247c8d32c09086565eac33103eb|palanga                    |37   |\n",
      "|dab67f7f4aba7247c8d32c09086565eac33103eb|milos                      |37   |\n",
      "|dab67f7f4aba7247c8d32c09086565eac33103eb|kaub                       |37   |\n",
      "|dab67f7f4aba7247c8d32c09086565eac33103eb|semmering                  |37   |\n",
      "|dab67f7f4aba7247c8d32c09086565eac33103eb|bautzen                    |37   |\n",
      "|dab67f7f4aba7247c8d32c09086565eac33103eb|kamnik                     |37   |\n",
      "|dab67f7f4aba7247c8d32c09086565eac33103eb|esztergom                  |37   |\n",
      "|dab67f7f4aba7247c8d32c09086565eac33103eb|dalian                     |37   |\n",
      "|dab67f7f4aba7247c8d32c09086565eac33103eb|fribourg                   |37   |\n",
      "|dab67f7f4aba7247c8d32c09086565eac33103eb|squamish                   |37   |\n",
      "|dab67f7f4aba7247c8d32c09086565eac33103eb|sankt goar                 |37   |\n",
      "|dab67f7f4aba7247c8d32c09086565eac33103eb|thale                      |37   |\n",
      "|dab67f7f4aba7247c8d32c09086565eac33103eb|catemaco                   |37   |\n",
      "|dab67f7f4aba7247c8d32c09086565eac33103eb|verbania                   |37   |\n",
      "|dab67f7f4aba7247c8d32c09086565eac33103eb|bahir dar                  |37   |\n",
      "|dab67f7f4aba7247c8d32c09086565eac33103eb|nijmegen                   |37   |\n",
      "|dab67f7f4aba7247c8d32c09086565eac33103eb|pogradec                   |37   |\n",
      "|dab67f7f4aba7247c8d32c09086565eac33103eb|grand case                 |37   |\n",
      "|dab67f7f4aba7247c8d32c09086565eac33103eb|chittagong                 |37   |\n",
      "|dab67f7f4aba7247c8d32c09086565eac33103eb|karnali zone               |37   |\n",
      "|dab67f7f4aba7247c8d32c09086565eac33103eb|san casciano in val di pesa|37   |\n",
      "|dab67f7f4aba7247c8d32c09086565eac33103eb|waianae                    |37   |\n",
      "|dab67f7f4aba7247c8d32c09086565eac33103eb|oberursel                  |37   |\n",
      "|dab67f7f4aba7247c8d32c09086565eac33103eb|central hungary            |37   |\n",
      "|dab67f7f4aba7247c8d32c09086565eac33103eb|nevsehir                   |37   |\n",
      "|dab67f7f4aba7247c8d32c09086565eac33103eb|taiyuan                    |37   |\n",
      "|dab67f7f4aba7247c8d32c09086565eac33103eb|al khor                    |37   |\n",
      "|dab67f7f4aba7247c8d32c09086565eac33103eb|cockermouth                |37   |\n",
      "|dab67f7f4aba7247c8d32c09086565eac33103eb|cooktown                   |37   |\n",
      "+----------------------------------------+---------------------------+-----+\n",
      "\n"
     ]
    }
   ],
   "source": [
    "outliers_details.where(func.col('user_id') == 'dab67f7f4aba7247c8d32c09086565eac33103eb').show(37, False)"
   ]
  },
  {
   "cell_type": "markdown",
   "metadata": {},
   "source": [
    "#### well... the serach interaction above doesn't look like coherent one?"
   ]
  },
  {
   "cell_type": "code",
   "execution_count": 663,
   "metadata": {},
   "outputs": [],
   "source": [
    "outliers_ids = [r.user_id for r in outliers.where(func.col('count') > 7).select('user_id').collect()]"
   ]
  },
  {
   "cell_type": "code",
   "execution_count": 673,
   "metadata": {},
   "outputs": [],
   "source": [
    "colb_ids = colb_ids.where(func.col('user_id').isin(outliers_ids) == False)"
   ]
  },
  {
   "cell_type": "code",
   "execution_count": 674,
   "metadata": {},
   "outputs": [
    {
     "data": {
      "text/plain": [
       "79"
      ]
     },
     "execution_count": 674,
     "metadata": {},
     "output_type": "execute_result"
    }
   ],
   "source": [
    "colb_ids.count()"
   ]
  },
  {
   "cell_type": "code",
   "execution_count": 675,
   "metadata": {},
   "outputs": [],
   "source": [
    "colb_df = df.join(colb_ids, on='user_id', how='inner').cache()"
   ]
  },
  {
   "cell_type": "code",
   "execution_count": 676,
   "metadata": {},
   "outputs": [],
   "source": [
    "clb_count = colb_df.count()"
   ]
  },
  {
   "cell_type": "code",
   "execution_count": 677,
   "metadata": {},
   "outputs": [
    {
     "name": "stdout",
     "output_type": "stream",
     "text": [
      "we have 180 records where user was logged at least twice\n"
     ]
    }
   ],
   "source": [
    "print('we have {} records where user was logged at least twice'.format(clb_count))"
   ]
  },
  {
   "cell_type": "code",
   "execution_count": 678,
   "metadata": {},
   "outputs": [],
   "source": [
    "colb_df = colb_df.withColumn(\"term_length\", func.length(func.col('searched_term'))).orderBy('term_length', ascending=False)"
   ]
  },
  {
   "cell_type": "code",
   "execution_count": 679,
   "metadata": {},
   "outputs": [
    {
     "name": "stdout",
     "output_type": "stream",
     "text": [
      "+----------------------------------------+----------------------------------------------------+-----+-----------+\n",
      "|user_id                                 |searched_term                                       |count|term_length|\n",
      "+----------------------------------------+----------------------------------------------------+-----+-----------+\n",
      "|97a0ef8dc71810e4f5702bd50e5c7c86b7a4f94a|from kraków: auschwitz-birkenau full-day guided tour|2    |52         |\n",
      "|8dd0b980793105e4b1d003de5b4b7c3ae2b56672|american museum of natural history: skip the line   |7    |49         |\n",
      "|8dd0b980793105e4b1d003de5b4b7c3ae2b56672|caribe aquatic park + roundtrip from barcelona      |7    |46         |\n",
      "|d57970604dea75a6788373b7a4eea5f0e09f9fc3|sydney aquarium and sydney wildlife                 |2    |35         |\n",
      "|bc8e3f60266538b6665f567dcf0e79d7c2ef2d50|uffizzi museum with a skip the line                 |2    |35         |\n",
      "|8dd0b980793105e4b1d003de5b4b7c3ae2b56672|altes museum: skip the line                         |7    |27         |\n",
      "|7c34594ad4ffcb7312e521a2c715e89f5fbb77c5|farleigh hungerford castle                          |2    |26         |\n",
      "|d1b3af2c22f8500a4d127c73b43a2a5cdfce5436|massachusetts +stockbridge                          |2    |26         |\n",
      "|bc8e3f60266538b6665f567dcf0e79d7c2ef2d50|brisbane airport brisbane                           |2    |25         |\n",
      "|8dd0b980793105e4b1d003de5b4b7c3ae2b56672|museum of decorative arts                           |7    |25         |\n",
      "+----------------------------------------+----------------------------------------------------+-----+-----------+\n",
      "only showing top 10 rows\n",
      "\n"
     ]
    }
   ],
   "source": [
    "colb_df.show(10, False)"
   ]
  },
  {
   "cell_type": "code",
   "execution_count": 680,
   "metadata": {},
   "outputs": [
    {
     "name": "stdout",
     "output_type": "stream",
     "text": [
      "+-------+------------------+\n",
      "|summary|       term_length|\n",
      "+-------+------------------+\n",
      "|  count|               180|\n",
      "|   mean|11.066666666666666|\n",
      "| stddev| 7.339036211517593|\n",
      "|    min|                 2|\n",
      "|    max|                52|\n",
      "+-------+------------------+\n",
      "\n"
     ]
    }
   ],
   "source": [
    "colb_df.select('term_length').describe().show()"
   ]
  },
  {
   "cell_type": "markdown",
   "metadata": {},
   "source": [
    "### FPGrowth alg"
   ]
  },
  {
   "cell_type": "code",
   "execution_count": 70,
   "metadata": {},
   "outputs": [],
   "source": [
    "rdd = colb_df.rdd.map(lambda r: (r.user_id, [r.searched_term]))\\\n",
    "             .reduceByKey(lambda x,y: list(set(x+y)))\n",
    "       \n",
    "items = rdd.toDF(['user_id', 'items'])"
   ]
  },
  {
   "cell_type": "code",
   "execution_count": 242,
   "metadata": {},
   "outputs": [
    {
     "name": "stdout",
     "output_type": "stream",
     "text": [
      "+----------------------------------------+------------------------------+\n",
      "|user_id                                 |items                         |\n",
      "+----------------------------------------+------------------------------+\n",
      "|d498c32f64ab864f986b6918442daed1171050d4|[cambridgeshire, lincolnshire]|\n",
      "|dcba62ca77599889e0faf9bdd7fe056d136e970c|[jammu and kashmir, gilgit]   |\n",
      "+----------------------------------------+------------------------------+\n",
      "only showing top 2 rows\n",
      "\n"
     ]
    }
   ],
   "source": [
    "items.show(2, False)"
   ]
  },
  {
   "cell_type": "markdown",
   "metadata": {},
   "source": [
    "#### FPGrowth could not accept large number of products"
   ]
  },
  {
   "cell_type": "code",
   "execution_count": 250,
   "metadata": {},
   "outputs": [],
   "source": [
    "small = [(r.user_id, r.items) for r in items.take(6)[2:6]]"
   ]
  },
  {
   "cell_type": "code",
   "execution_count": 252,
   "metadata": {},
   "outputs": [],
   "source": [
    "small = sqlContext.createDataFrame(small, ['id', 'items'])"
   ]
  },
  {
   "cell_type": "code",
   "execution_count": 253,
   "metadata": {},
   "outputs": [],
   "source": [
    "from pyspark.ml.fpm import FPGrowth\n",
    "\n",
    "fpGrowth = FPGrowth(itemsCol=\"items\", minSupport=0.3, minConfidence=0.2)\n",
    "model = fpGrowth.fit(small)"
   ]
  },
  {
   "cell_type": "code",
   "execution_count": 254,
   "metadata": {},
   "outputs": [
    {
     "name": "stdout",
     "output_type": "stream",
     "text": [
      "+-----+----+\n",
      "|items|freq|\n",
      "+-----+----+\n",
      "+-----+----+\n",
      "\n"
     ]
    }
   ],
   "source": [
    "model.freqItemsets.show(10)"
   ]
  },
  {
   "cell_type": "code",
   "execution_count": null,
   "metadata": {},
   "outputs": [],
   "source": []
  },
  {
   "cell_type": "markdown",
   "metadata": {},
   "source": [
    "## Collaborative filtering"
   ]
  },
  {
   "cell_type": "code",
   "execution_count": 681,
   "metadata": {},
   "outputs": [],
   "source": [
    "from pyspark.mllib.recommendation import ALS, MatrixFactorizationModel, Rating"
   ]
  },
  {
   "cell_type": "markdown",
   "metadata": {},
   "source": [
    "#### encode string to integers"
   ]
  },
  {
   "cell_type": "code",
   "execution_count": 687,
   "metadata": {},
   "outputs": [],
   "source": [
    "from pyspark.ml.feature import IndexToString, StringIndexer\n",
    "\n",
    "id_indexere = StringIndexer(inputCol='user_id', outputCol=\"user_id_idx\")\n",
    "id_model = id_indexere.fit(colb_df)\n",
    "indexed_ids = id_model.transform(colb_df)\n",
    "\n",
    "term_indexer = StringIndexer(inputCol='searched_term', outputCol=\"searched_term_idx\")\n",
    "term_mdoel = term_indexer.fit(colb_df)\n",
    "indexed_terms = term_mdoel.transform(indexed_ids)\n"
   ]
  },
  {
   "cell_type": "code",
   "execution_count": 713,
   "metadata": {},
   "outputs": [
    {
     "name": "stdout",
     "output_type": "stream",
     "text": [
      "+----------------------------------------+-------------+-----+-----------+-----------+-----------------+\n",
      "|user_id                                 |searched_term|count|term_length|user_id_idx|searched_term_idx|\n",
      "+----------------------------------------+-------------+-----+-----------+-----------+-----------------+\n",
      "|01c491119eb128a0a5089de299c5c3108b656160|kà           |2    |2          |57.0       |75.0             |\n",
      "|b278ec37a585afb95ff7bc1fdca2fc61275d0de6|ski          |2    |3          |29.0       |99.0             |\n",
      "|e925116f9d22f6914fe789b3f065d76540f8a7e2|kep          |2    |3          |21.0       |25.0             |\n",
      "|0eeec901593030c2be416cd01dba1bf5ed23abdd|nan          |2    |3          |49.0       |94.0             |\n",
      "|aad89e151e8c0b4f6cbc5775c2574ded6941dbc1|perm         |7    |4          |0.0        |135.0            |\n",
      "|ffcdabd3aa19efcc3998260e40f79131c31533f6|napa         |2    |4          |71.0       |53.0             |\n",
      "|9b9ce2929317c1722d3ed209e1a4a671020fa0fc|harz         |2    |4          |27.0       |114.0            |\n",
      "|4528d65081b6e37a92e8d379abdd72b523efaec6|todi         |2    |4          |32.0       |54.0             |\n",
      "|23295304fd1348bc0a9b73b6c1633a34e9c06874|umeå         |2    |4          |65.0       |96.0             |\n",
      "|68c17e3eb4135d070ed5442b3c4593571db878b0|iowa         |3    |4          |7.0        |111.0            |\n",
      "+----------------------------------------+-------------+-----+-----------+-----------+-----------------+\n",
      "only showing top 10 rows\n",
      "\n"
     ]
    }
   ],
   "source": [
    "indexed_terms.orderBy(\"term_length\").show(10, False)"
   ]
  },
  {
   "cell_type": "code",
   "execution_count": 690,
   "metadata": {},
   "outputs": [],
   "source": [
    "train_data = indexed_terms.rdd.map(lambda r: Rating(int(r.user_id_idx), int(r.searched_term_idx), 1.0))"
   ]
  },
  {
   "cell_type": "code",
   "execution_count": 691,
   "metadata": {},
   "outputs": [],
   "source": [
    "rank = 10\n",
    "numIterations = 20\n",
    "model = ALS.train(train_data, rank, numIterations)"
   ]
  },
  {
   "cell_type": "markdown",
   "metadata": {},
   "source": [
    "### Recomendations"
   ]
  },
  {
   "cell_type": "code",
   "execution_count": 714,
   "metadata": {},
   "outputs": [],
   "source": [
    "prob1 = model.recommendProducts(22, 4)"
   ]
  },
  {
   "cell_type": "code",
   "execution_count": 715,
   "metadata": {},
   "outputs": [
    {
     "data": {
      "text/plain": [
       "[Rating(user=22, product=8, rating=0.9899546405474968),\n",
       " Rating(user=22, product=104, rating=0.9899546405474968),\n",
       " Rating(user=22, product=105, rating=0.777370871443289),\n",
       " Rating(user=22, product=170, rating=0.777370871443289)]"
      ]
     },
     "execution_count": 715,
     "metadata": {},
     "output_type": "execute_result"
    }
   ],
   "source": [
    "prob1"
   ]
  },
  {
   "cell_type": "code",
   "execution_count": 717,
   "metadata": {},
   "outputs": [
    {
     "name": "stdout",
     "output_type": "stream",
     "text": [
      "+----------------------------------------+------------------+-----+-----------+-----------+-----------------+\n",
      "|user_id                                 |searched_term     |count|term_length|user_id_idx|searched_term_idx|\n",
      "+----------------------------------------+------------------+-----+-----------+-----------+-----------------+\n",
      "|11c13059781f4d1c058df2f1f43de255f4eb5244|gaudi house museum|3    |18         |6.0        |170.0            |\n",
      "|11c13059781f4d1c058df2f1f43de255f4eb5244|santa cruz        |3    |10         |6.0        |105.0            |\n",
      "|487998adfd10e8ac474497e57e14eca7749a8bef|new yourk         |2    |9          |22.0       |104.0            |\n",
      "|487998adfd10e8ac474497e57e14eca7749a8bef|hakone            |2    |6          |22.0       |8.0              |\n",
      "+----------------------------------------+------------------+-----+-----------+-----------+-----------------+\n",
      "\n"
     ]
    }
   ],
   "source": [
    "indexed_terms.where((func.col('searched_term_idx').isin([i.product for i in prob1]) )).show(truncate=False)"
   ]
  },
  {
   "cell_type": "markdown",
   "metadata": {},
   "source": [
    "### Cosine similarity"
   ]
  },
  {
   "cell_type": "code",
   "execution_count": 694,
   "metadata": {},
   "outputs": [],
   "source": [
    "features = model.productFeatures()"
   ]
  },
  {
   "cell_type": "code",
   "execution_count": 695,
   "metadata": {},
   "outputs": [
    {
     "data": {
      "text/plain": [
       "[(0,\n",
       "  array('d', [0.002898055361583829, 0.5327853560447693, -0.18894001841545105, -0.13316021859645844, -0.4272618293762207, 0.024094535037875175, -0.3080541789531708, 0.0180001612752676, 0.6004667282104492, -0.09628759324550629])),\n",
       " (32,\n",
       "  array('d', [0.22591079771518707, -0.014748246408998966, 0.30071818828582764, 0.21335169672966003, 0.2107064425945282, -0.6190462112426758, 0.005165599752217531, 0.26987746357917786, 0.5202518105506897, 0.16475209593772888])),\n",
       " (64,\n",
       "  array('d', [0.5905473232269287, -0.04534277319908142, 0.10780686140060425, 0.38446810841560364, -0.039201073348522186, -0.3314572870731354, 0.2194383144378662, 0.23788738250732422, -0.31411656737327576, 0.4005388915538788])),\n",
       " (96,\n",
       "  array('d', [-0.4721476137638092, -0.1280212253332138, -0.5046680569648743, 0.17404226958751678, 0.02250622771680355, 0.36595582962036133, -0.03131099045276642, -0.10302021354436874, -0.2929040789604187, -0.4789309799671173])),\n",
       " (128,\n",
       "  array('d', [-0.4909956157207489, -0.052700504660606384, 0.3524177074432373, -0.45318859815597534, -0.3462734818458557, 0.05456189066171646, 0.06387875974178314, 0.5223329663276672, -0.06898387521505356, -0.086599200963974]))]"
      ]
     },
     "execution_count": 695,
     "metadata": {},
     "output_type": "execute_result"
    }
   ],
   "source": [
    "features.take(5)"
   ]
  },
  {
   "cell_type": "code",
   "execution_count": 696,
   "metadata": {},
   "outputs": [],
   "source": [
    "from pyspark.mllib.linalg.distributed import IndexedRow, IndexedRowMatrix,CoordinateMatrix, MatrixEntry\n",
    "\n",
    "pred = IndexedRowMatrix(features.map(lambda x: IndexedRow(x[0],x[1]))).toBlockMatrix().transpose().toIndexedRowMatrix()\n",
    "pred_sims = pred.columnSimilarities()"
   ]
  },
  {
   "cell_type": "code",
   "execution_count": 697,
   "metadata": {},
   "outputs": [],
   "source": [
    "simdf = pred_sims.entries.map(lambda e: (e.i, e.j, e.value)).toDF(['i', 'j', 'similarity']).cache()"
   ]
  },
  {
   "cell_type": "code",
   "execution_count": 698,
   "metadata": {},
   "outputs": [
    {
     "data": {
      "text/plain": [
       "15931"
      ]
     },
     "execution_count": 698,
     "metadata": {},
     "output_type": "execute_result"
    }
   ],
   "source": [
    "simdf.count()"
   ]
  },
  {
   "cell_type": "markdown",
   "metadata": {},
   "source": [
    "### Let's explore similarity\n",
    "\n",
    "similarity between **i and j** search terms. "
   ]
  },
  {
   "cell_type": "code",
   "execution_count": 718,
   "metadata": {},
   "outputs": [
    {
     "name": "stdout",
     "output_type": "stream",
     "text": [
      "+---+---+--------------------+\n",
      "|  i|  j|          similarity|\n",
      "+---+---+--------------------+\n",
      "|163|170|  0.4728120117977583|\n",
      "|128|138|  0.2724593035496108|\n",
      "| 98|119|  0.4299654549562856|\n",
      "| 68|168|-0.15087527294611158|\n",
      "| 35| 65|0.026965612347701437|\n",
      "+---+---+--------------------+\n",
      "only showing top 5 rows\n",
      "\n"
     ]
    }
   ],
   "source": [
    "simdf.show(5)"
   ]
  },
  {
   "cell_type": "code",
   "execution_count": 722,
   "metadata": {},
   "outputs": [
    {
     "name": "stdout",
     "output_type": "stream",
     "text": [
      "+---+-----+\n",
      "|  i|count|\n",
      "+---+-----+\n",
      "| 26|  152|\n",
      "| 29|  149|\n",
      "| 65|  113|\n",
      "| 54|  124|\n",
      "| 19|  159|\n",
      "+---+-----+\n",
      "only showing top 5 rows\n",
      "\n"
     ]
    }
   ],
   "source": [
    "simdf.groupby('i').count().show(5)"
   ]
  },
  {
   "cell_type": "code",
   "execution_count": 703,
   "metadata": {},
   "outputs": [],
   "source": [
    "import sys\n",
    "from pyspark.sql.window import Window\n",
    "\n",
    "window = Window.partitionBy('i').orderBy(func.col('similarity').desc())\n",
    "\n",
    "recom = simdf.withColumn(\"rank\", func.rank().over(window))\\\n",
    "             .where((func.col('rank') < 4) & ((func.col('similarity') > 0.97))).cache()"
   ]
  },
  {
   "cell_type": "markdown",
   "metadata": {},
   "source": [
    "#### first 3 in alph order"
   ]
  },
  {
   "cell_type": "code",
   "execution_count": 704,
   "metadata": {},
   "outputs": [],
   "source": [
    "window = Window.partitionBy(['i', 'similarity']).orderBy(func.col('similarity').desc())\n",
    "\n",
    "recom = recom.withColumn(\"rown\", func.row_number().over(window))\\\n",
    "             .where((func.col('rown') < 4)).cache()"
   ]
  },
  {
   "cell_type": "code",
   "execution_count": 706,
   "metadata": {},
   "outputs": [
    {
     "data": {
      "text/plain": [
       "133"
      ]
     },
     "execution_count": 706,
     "metadata": {},
     "output_type": "execute_result"
    }
   ],
   "source": [
    "recom.count()"
   ]
  },
  {
   "cell_type": "code",
   "execution_count": 707,
   "metadata": {},
   "outputs": [],
   "source": [
    "rec1 = recom.join(indexed_terms.select(['searched_term', 'searched_term_idx'])\\\n",
    "           , on=(recom.i == indexed_terms.searched_term_idx)).cache()\n",
    "     "
   ]
  },
  {
   "cell_type": "code",
   "execution_count": 708,
   "metadata": {},
   "outputs": [],
   "source": [
    "j_term = indexed_terms.select([func.col('searched_term').alias('j_term')\\\n",
    "                               , func.col('searched_term_idx').alias('j_term_idx')])"
   ]
  },
  {
   "cell_type": "code",
   "execution_count": 709,
   "metadata": {},
   "outputs": [],
   "source": [
    "recom_terms = rec1.join(j_term, on=(rec1.j == j_term.j_term_idx))"
   ]
  },
  {
   "cell_type": "code",
   "execution_count": 710,
   "metadata": {},
   "outputs": [],
   "source": [
    "recds = recom_terms.select(['searched_term', 'j_term']).groupby('searched_term').agg(func.collect_list('j_term'))"
   ]
  },
  {
   "cell_type": "code",
   "execution_count": 711,
   "metadata": {},
   "outputs": [
    {
     "name": "stdout",
     "output_type": "stream",
     "text": [
      "+----------------------------------------------+-----------------------------------------------------+\n",
      "|searched_term                                 |collect_list(j_term)                                 |\n",
      "+----------------------------------------------+-----------------------------------------------------+\n",
      "|cheyenne                                      |[laramie]                                            |\n",
      "|dinant                                        |[luxembourg dinant]                                  |\n",
      "|lampang                                       |[nan]                                                |\n",
      "|torbay                                        |[bunbury]                                            |\n",
      "|donetsk                                       |[biertan, bradford, perm]                            |\n",
      "|pasadena                                      |[winnipeg]                                           |\n",
      "|uffizzi museum with a skip the line           |[brisbane airport brisbane]                          |\n",
      "|shooting                                      |[siberia]                                            |\n",
      "|bradford                                      |[perm, kryvyi rih, biertan]                          |\n",
      "|caribe aquatic park + roundtrip from barcelona|[museum of decorative arts, boom chicago, ddr museum]|\n",
      "|helicopter                                    |[sky diving]                                         |\n",
      "|dana point                                    |[huntington beach]                                   |\n",
      "|santa cruz                                    |[gaudi house museum]                                 |\n",
      "|stockbridge                                   |[massachusetts +stockbridge]                         |\n",
      "|castleton                                     |[buxton]                                             |\n",
      "|jammu and kashmir                             |[gilgit]                                             |\n",
      "|sealife sydney                                |[sydney aquarium and sydney wildlife]                |\n",
      "|greenwich park                                |[the british museum]                                 |\n",
      "|mautitius                                     |[reykjavík glacial lagoon]                           |\n",
      "|mashhad                                       |[isfahan]                                            |\n",
      "|dundee                                        |[dunfermline]                                        |\n",
      "|moldavia                                      |[biertan, kryvyi rih, donetsk]                       |\n",
      "|park güell                                    |[santa cruz, gaudi house museum]                     |\n",
      "|jakulfell                                     |[whale watching]                                     |\n",
      "|dnipropetrovsk                                |[vologda]                                            |\n",
      "+----------------------------------------------+-----------------------------------------------------+\n",
      "only showing top 25 rows\n",
      "\n"
     ]
    }
   ],
   "source": [
    "recds.show(25, False)"
   ]
  },
  {
   "cell_type": "code",
   "execution_count": null,
   "metadata": {},
   "outputs": [],
   "source": []
  }
 ],
 "metadata": {
  "kernelspec": {
   "display_name": "Python 3",
   "language": "python",
   "name": "python3"
  },
  "language_info": {
   "codemirror_mode": {
    "name": "ipython",
    "version": 3
   },
   "file_extension": ".py",
   "mimetype": "text/x-python",
   "name": "python",
   "nbconvert_exporter": "python",
   "pygments_lexer": "ipython3",
   "version": "3.6.5"
  }
 },
 "nbformat": 4,
 "nbformat_minor": 2
}
